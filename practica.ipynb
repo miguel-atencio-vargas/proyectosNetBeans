{
  "nbformat": 4,
  "nbformat_minor": 0,
  "metadata": {
    "colab": {
      "name": "practica",
      "provenance": [],
      "collapsed_sections": [],
      "include_colab_link": true
    },
    "kernelspec": {
      "name": "python3",
      "display_name": "Python 3"
    }
  },
  "cells": [
    {
      "cell_type": "markdown",
      "metadata": {
        "id": "view-in-github",
        "colab_type": "text"
      },
      "source": [
        "<a href=\"https://colab.research.google.com/github/skyfall947/proyectosNetBeans/blob/master/practica.ipynb\" target=\"_parent\"><img src=\"https://colab.research.google.com/assets/colab-badge.svg\" alt=\"Open In Colab\"/></a>"
      ]
    },
    {
      "cell_type": "code",
      "metadata": {
        "id": "emSrmNQPn1oo",
        "colab_type": "code",
        "colab": {}
      },
      "source": [
        "v = []\n",
        "x = 17\n",
        "for i in range(1,6000):# aqui puedes poner hasta que numero quieres iterar\n",
        "    y = 203 * x # esta es la 1ra operacion \n",
        "    x = y%100000 # la segunda de la formula\n",
        "    if(i<100 or i>4900): # esto solo es para imprimir los primeros y los ultimos solo es necesario cuando se haya encontrado el periodo\n",
        "        print(i, y, x)\n",
        "    if(x in v):# esto verifica si ya se obtuvo el dato es decir se encontro el rango\n",
        "        print(\"true\")\n",
        "        break\n",
        "    v.append(x) # esto lo añade al vector para poder revisarlo despues\n"
      ],
      "execution_count": 0,
      "outputs": []
    },
    {
      "cell_type": "code",
      "metadata": {
        "id": "4jtVaAtgFqXr",
        "colab_type": "code",
        "colab": {}
      },
      "source": [
        "v = [] # de este simplemente no se puede encontrar\n",
        "x = 19\n",
        "for i in range(1,2000000):\n",
        "    y = 211 * x\n",
        "    x = y%100000000\n",
        "    # if(i<50 or i>4900):\n",
        "    #     print(i, y, x)\n",
        "    if(x in v):\n",
        "        print(i ,\"true\")\n",
        "        break\n",
        "    v.append(x)"
      ],
      "execution_count": 0,
      "outputs": []
    },
    {
      "cell_type": "code",
      "metadata": {
        "id": "KE10HQU7FxH7",
        "colab_type": "code",
        "outputId": "05743867-f78c-488f-a2c4-c6ec7d142062",
        "colab": {
          "base_uri": "https://localhost:8080/",
          "height": 36
        }
      },
      "source": [
        "# tercer ejercicio\n",
        "v = []\n",
        "x = 3\n",
        "for i in range(1,1000):\n",
        "    y = 221 * x\n",
        "    x = y%1000\n",
        "    if(i<8 or i>42):\n",
        "        print(i, y, x)\n",
        "    if(x in v):\n",
        "        print(i ,\"true\")\n",
        "        break\n",
        "    v.append(x)"
      ],
      "execution_count": 0,
      "outputs": [
        {
          "output_type": "stream",
          "text": [
            "51 true\n"
          ],
          "name": "stdout"
        }
      ]
    },
    {
      "cell_type": "code",
      "metadata": {
        "id": "a98AdSelJZPL",
        "colab_type": "code",
        "outputId": "fbe23284-11e4-41a2-ce84-a11f5745ae19",
        "colab": {
          "base_uri": "https://localhost:8080/",
          "height": 226
        }
      },
      "source": [
        "# cuarto ejercicio\n",
        "v = []\n",
        "x = 7\n",
        "for i in range(1,1000):\n",
        "    y = 5 * x\n",
        "    x = y%64\n",
        "    #if(i<8 or i>13):\n",
        "    print(i, y, x)\n",
        "    if(x in v):\n",
        "        print(i ,\"true\")\n",
        "        break\n",
        "    v.append(x)"
      ],
      "execution_count": 0,
      "outputs": [
        {
          "output_type": "stream",
          "text": [
            "1 35 35\n",
            "2 175 47\n",
            "3 235 43\n",
            "4 215 23\n",
            "5 115 51\n",
            "6 255 63\n",
            "7 315 59\n",
            "15 155 27\n",
            "16 135 7\n",
            "17 35 35\n",
            "17 true\n"
          ],
          "name": "stdout"
        }
      ]
    },
    {
      "cell_type": "code",
      "metadata": {
        "id": "ALmPsbwxMFku",
        "colab_type": "code",
        "colab": {}
      },
      "source": [
        "# quinto ejercicio\n",
        "v = []\n",
        "x = 9\n",
        "for i in range(1,1000):\n",
        "    y = 11 * x\n",
        "    x = y%128\n",
        "    #if(i<8 or i>13):\n",
        "    print(i, y, x)\n",
        "    if(x in v):\n",
        "        print(i ,\"true\")\n",
        "        break\n",
        "    v.append(x)"
      ],
      "execution_count": 0,
      "outputs": []
    },
    {
      "cell_type": "markdown",
      "metadata": {
        "id": "Ev6RVpG4M2u-",
        "colab_type": "text"
      },
      "source": [
        "## Genere números aleatorios entre 0 y 1 con los siguientes generadores congruenciales y determine el ciclo de vida de cada uno.\n",
        "\n"
      ]
    },
    {
      "cell_type": "code",
      "metadata": {
        "id": "hGGWwXtOM_uR",
        "colab_type": "code",
        "colab": {}
      },
      "source": [
        "v = []\n",
        "x = 31767\n",
        "for i in range(1,100000):\n",
        "    y = (71561 * x) + 56822117\n",
        "    x = y%341157\n",
        "    num = x/341157\n",
        "    if(i<5 or i>37903):\n",
        "        print(i, y, x, num)\n",
        "    if(x in v):\n",
        "        print(\"true\")\n",
        "        break\n",
        "    v.append(x)"
      ],
      "execution_count": 0,
      "outputs": []
    },
    {
      "cell_type": "code",
      "metadata": {
        "id": "wpGNfqFEQZDW",
        "colab_type": "code",
        "colab": {}
      },
      "source": [
        "# tercer ejercicio\n",
        "v = []\n",
        "x = 71\n",
        "for i in range(1,40):\n",
        "    y = (71 * x) + 517\n",
        "    x = y%111\n",
        "    num = x/111\n",
        "    print(i, y, x, num)\n",
        "    if(x in v):\n",
        "        print(\"true\")\n",
        "        break\n",
        "    v.append(x)"
      ],
      "execution_count": 0,
      "outputs": []
    },
    {
      "cell_type": "code",
      "metadata": {
        "id": "BzR3zcqLR29Q",
        "colab_type": "code",
        "colab": {}
      },
      "source": [
        "# segundo ejercicio\n",
        "v = []\n",
        "x = 71\n",
        "for i in range(1,40):\n",
        "    y = (71 * x) + 57\n",
        "    x = y%341\n",
        "    num = x/341\n",
        "    print(i, y, x, num)\n",
        "    if(x in v):\n",
        "        print(\"true\")\n",
        "        break\n",
        "    v.append(x)"
      ],
      "execution_count": 0,
      "outputs": []
    },
    {
      "cell_type": "code",
      "metadata": {
        "id": "UvAKoEHsR4gq",
        "colab_type": "code",
        "colab": {}
      },
      "source": [
        "# cuarto ejercicio\n",
        " = []\n",
        "x = 31767\n",
        "for i in range(1,40):\n",
        "    y = (71561 * x) + 56822117\n",
        "    x = y%341157\n",
        "    num = x/341157\n",
        "    print(i, y, x, num)\n",
        "    if(x in v):\n",
        "        print(\"true\")\n",
        "        break\n",
        "    v.append(x)\n"
      ],
      "execution_count": 0,
      "outputs": []
    },
    {
      "cell_type": "code",
      "metadata": {
        "id": "e0ay9zZaZAum",
        "colab_type": "code",
        "colab": {}
      },
      "source": [
        "# quinto ejercicio\n",
        "v = []\n",
        "x = 927\n",
        "\n",
        "for i in range(1,200):\n",
        "    y = (723 * x) + 531\n",
        "    x = y%314\n",
        "    num = x/314\n",
        "    if(i<5 or i>153):\n",
        "        print(i, y, x, num)\n",
        "    if(x in v):\n",
        "        print(i,\"true\")\n",
        "        break\n",
        "    v.append(x)"
      ],
      "execution_count": 0,
      "outputs": []
    },
    {
      "cell_type": "code",
      "metadata": {
        "id": "QltBabJjpAiY",
        "colab_type": "code",
        "colab": {}
      },
      "source": [
        "# octavo ejercicio\n",
        "v = []\n",
        "x = 22\n",
        "\n",
        "for i in range(1,9000):\n",
        "    y = (16 * x) +4\n",
        "    x = y%14\n",
        "    num = x/14\n",
        "    if(i<5 or i>34):\n",
        "        print(i, y, x, num)\n",
        "    if(x in v):\n",
        "        print(i,\"true\")\n",
        "        break\n",
        "    v.append(x)"
      ],
      "execution_count": 0,
      "outputs": []
    },
    {
      "cell_type": "markdown",
      "metadata": {
        "id": "k9ssjlymfiJl",
        "colab_type": "text"
      },
      "source": [
        "## Generacion de 50 numeros alearios"
      ]
    },
    {
      "cell_type": "code",
      "metadata": {
        "id": "EeV7S94O3wpl",
        "colab_type": "code",
        "colab": {}
      },
      "source": [
        "n = 4567234902\n",
        "v1 = []\n",
        "for i in range(1, 51):\n",
        "    #print(\"n:\",n, \"n²:\",n*n)\n",
        "    n = n*n\n",
        "    lista = str(n)\n",
        "    tamaño = len(lista)\n",
        "    mitad = tamaño//2\n",
        "    inicio = mitad - 2\n",
        "    final = mitad + 2\n",
        "    divisor = 10000\n",
        "    aleatorio = int(lista[inicio:final])/divisor\n",
        "    n = int(lista[inicio:final])\n",
        "    if(aleatorio in v1):\n",
        "        aleatorio = aleatorio+(i/1000)\n",
        "    v1.append(aleatorio)\n",
        "    if(i>2):\n",
        "        n = n//10\n",
        "    print(i, \"{0:.4f}\".format(aleatorio))\n",
        "s = set(v1)\n",
        "print(len(s))"
      ],
      "execution_count": 0,
      "outputs": []
    },
    {
      "cell_type": "code",
      "metadata": {
        "id": "PMp5dwzjc0Bn",
        "colab_type": "code",
        "colab": {}
      },
      "source": [
        "n =  3567345\n",
        "v2 = []\n",
        "for i in range(1, 51):\n",
        "    #print(\"n:\",n, \"n²:\",n*n)\n",
        "    n = n*n\n",
        "    lista = str(n)\n",
        "    tamaño = len(lista)\n",
        "    mitad = tamaño//2\n",
        "    inicio = mitad - 2\n",
        "    final = mitad + 2\n",
        "    divisor = 10000\n",
        "    aleatorio = int(lista[inicio:final])/divisor\n",
        "    v2.append(aleatorio)\n",
        "    n = int(lista[inicio:final])\n",
        "    print(i, \"{0:.4f}\".format(aleatorio))\n",
        "s = set(v2)\n",
        "print(len(s))"
      ],
      "execution_count": 0,
      "outputs": []
    },
    {
      "cell_type": "code",
      "metadata": {
        "id": "cof5kSzfdEGN",
        "colab_type": "code",
        "colab": {}
      },
      "source": [
        "n =  1234500012\n",
        "v3 = []\n",
        "for i in range(1, 51):\n",
        "    #print(\"n:\",n, \"n²:\",n*n)\n",
        "    n = n*n\n",
        "    lista = str(n)\n",
        "    tamaño = len(lista)\n",
        "    mitad = tamaño//2\n",
        "    inicio = mitad - 2\n",
        "    final = mitad + 2\n",
        "    divisor = 10000\n",
        "    aleatorio = int(lista[inicio:final])/divisor\n",
        "    n = int(lista[inicio:final])\n",
        "    if(aleatorio in v3):\n",
        "        aleatorio = aleatorio+(i/1000)\n",
        "    v3.append(aleatorio)\n",
        "    print(i, \"{0:.4f}\".format(aleatorio))\n",
        "s = set(v3)\n",
        "print(len(s))\n",
        "print(v3)\n",
        "    "
      ],
      "execution_count": 0,
      "outputs": []
    },
    {
      "cell_type": "markdown",
      "metadata": {
        "id": "3dhxyq6lfxZs",
        "colab_type": "text"
      },
      "source": [
        "### En cada caso calcule el valor esperado, la varianza y el histograma. Demuestre que los números generados provienen de una distribución uniforme con un nivel de aceptación del 90%.\n"
      ]
    },
    {
      "cell_type": "code",
      "metadata": {
        "id": "NVWV9_wof4j-",
        "colab_type": "code",
        "colab": {
          "base_uri": "https://localhost:8080/",
          "height": 281
        },
        "outputId": "35855800-5e99-4bcb-ff43-f5b40ee87dcb"
      },
      "source": [
        "import pandas as pd\n",
        "import numpy as np\n",
        "import matplotlib.pyplot as plt\n",
        "size, scale = 1000, 10\n",
        "commutes = pd.Series(v1)\n",
        "commutes.plot.hist(grid=True, bins=20, rwidth=0.9,\n",
        "                   color='#607c8e')\n",
        "plt.title('Para la primera semilla')\n",
        "plt.grid(axis='y', alpha=0.75)"
      ],
      "execution_count": 14,
      "outputs": [
        {
          "output_type": "display_data",
          "data": {
            "image/png": "[encoded data removed]",
            "text/plain": [
              "<Figure size 432x288 with 1 Axes>"
            ]
          },
          "metadata": {
            "tags": [],
            "needs_background": "light"
          }
        }
      ]
    },
    {
      "cell_type": "code",
      "metadata": {
        "id": "FGXu2H5y72nU",
        "colab_type": "code",
        "colab": {
          "base_uri": "https://localhost:8080/",
          "height": 281
        },
        "outputId": "fcf6138a-d155-461e-b829-ae7adf321fa5"
      },
      "source": [
        "commutes = pd.Series(v2)\n",
        "commutes.plot.hist(grid=True, bins=20, rwidth=0.9,\n",
        "                   color='#607c8e')\n",
        "plt.title('Para la segunda semilla')\n",
        "plt.grid(axis='y', alpha=0.75)"
      ],
      "execution_count": 15,
      "outputs": [
        {
          "output_type": "display_data",
          "data": {
            "image/png": "[encoded data removed]",
            "text/plain": [
              "<Figure size 432x288 with 1 Axes>"
            ]
          },
          "metadata": {
            "tags": [],
            "needs_background": "light"
          }
        }
      ]
    },
    {
      "cell_type": "code",
      "metadata": {
        "id": "4GsFjwoX77P2",
        "colab_type": "code",
        "colab": {
          "base_uri": "https://localhost:8080/",
          "height": 281
        },
        "outputId": "11547a78-1393-4399-e81a-74f08bcf52c5"
      },
      "source": [
        "commutes = pd.Series(v3)\n",
        "commutes.plot.hist(grid=True, bins=20, rwidth=0.9,\n",
        "                   color='#607c8e')\n",
        "plt.title('Para la tercera semilla')\n",
        "plt.grid(axis='y', alpha=0.75)"
      ],
      "execution_count": 17,
      "outputs": [
        {
          "output_type": "display_data",
          "data": {
            "image/png": "[encoded data removed]",
            "text/plain": [
              "<Figure size 432x288 with 1 Axes>"
            ]
          },
          "metadata": {
            "tags": [],
            "needs_background": "light"
          }
        }
      ]
    }
  ]
}